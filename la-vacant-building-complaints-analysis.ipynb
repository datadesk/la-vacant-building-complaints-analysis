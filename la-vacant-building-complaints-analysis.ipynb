{
 "cells": [
  {
   "cell_type": "markdown",
   "metadata": {},
   "source": [
    "# L.A. vacant building complaints analysis\n",
    "\n",
    "By Emily Alpert Reyes and Ben Welsh\n",
    "\n",
    "Lists of [open](https://data.lacity.org/A-Prosperous-City/Building-and-Safety-Customer-Service-Request/bsvt-chkv) and [closed](https://data.lacity.org/A-Prosperous-City/Building-and-Safety-Customer-Service-Request-Close/8qjh-sbs9) complaints filed with the city Building and Safety Department were downloaded city's open data portal.\n",
    "\n",
    "The two files were combined into a single spreadsheet. A new column called \"Year Received\" was generated from the existing \"Date Received\" field using LibreOffice's ``YEAR()`` function."
   ]
  },
  {
   "cell_type": "code",
   "execution_count": 2,
   "metadata": {
    "collapsed": true
   },
   "outputs": [],
   "source": [
    "import agate"
   ]
  },
  {
   "cell_type": "code",
   "execution_count": null,
   "metadata": {
    "collapsed": false
   },
   "outputs": [],
   "source": [
    "table = agate.Table.from_csv(\"./combined_complaints.csv\")\n",
    "print table"
   ]
  },
  {
   "cell_type": "code",
   "execution_count": 1,
   "metadata": {
    "collapsed": false
   },
   "outputs": [
    {
     "ename": "NameError",
     "evalue": "name 'table' is not defined",
     "output_type": "error",
     "traceback": [
      "\u001b[1;31m---------------------------------------------------------------------------\u001b[0m",
      "\u001b[1;31mNameError\u001b[0m                                 Traceback (most recent call last)",
      "\u001b[1;32m<ipython-input-1-9003d7190a2a>\u001b[0m in \u001b[0;36m<module>\u001b[1;34m()\u001b[0m\n\u001b[1;32m----> 1\u001b[1;33m \u001b[1;32mprint\u001b[0m \u001b[1;34m\"Total complaints: %s\"\u001b[0m \u001b[1;33m%\u001b[0m \u001b[0mlen\u001b[0m\u001b[1;33m(\u001b[0m\u001b[0mtable\u001b[0m\u001b[1;33m.\u001b[0m\u001b[0mrows\u001b[0m\u001b[1;33m)\u001b[0m\u001b[1;33m\u001b[0m\u001b[0m\n\u001b[0m",
      "\u001b[1;31mNameError\u001b[0m: name 'table' is not defined"
     ]
    }
   ],
   "source": [
    "print \"Total complaints: %s\" % len(table.rows)"
   ]
  },
  {
   "cell_type": "code",
   "execution_count": 8,
   "metadata": {
    "collapsed": false
   },
   "outputs": [
    {
     "name": "stdout",
     "output_type": "stream",
     "text": [
      "|-------------------------------------------+--------+--------------------------------|\n",
      "|  CSR Problem Type                         |  count |                       percent  |\n",
      "|-------------------------------------------+--------+--------------------------------|\n",
      "|  ABANDONED OR VACANT BUILDING LEFT OPE... |  4,005 |  3.50568524986213597332002836  |\n",
      "|  ANY CHANGES DONE TO A PROPERTY IN AN ... |    867 |  0.75890864210498673879362412  |\n",
      "|  ANY ISSUE REGARDING RECYCLING CENTERS    |    353 |  0.30899048519384119814780774  |\n",
      "|  ANY ISSUES WITH HOTELS AND MOTELS        |    143 |  0.12517178295387901228083996  |\n",
      "|  ANY PROBLEMS THAT ONLY OCCUR FROM 5:0... |  2,428 |  2.12529432875537232040475128  |\n",
      "|  AUTOMOBILE REPAIR CONDUCTED ON RESIDE... |  1,546 |  1.35325577934753113976348660  |\n",
      "|  BLOCKED EXITS PASSAGEWAYS OR WINDOWS     |    355 |  0.31074113950088845706082648  |\n",
      "|  BUILDING OR FENCE NEEDS PAINT            |    147 |  0.12867309156797353010687745  |\n",
      "|  BUILDING OR PROPERTY CONVERTED TO ANO... |  7,434 |  6.50718205929466137969065938  |\n",
      "|  BUILDING OR WALL THAT COULD FALL DOWN    |  1,752 |  1.53357317297339880780441690  |\n",
      "|  BUILDINGS IN NEED OF GENERAL REPAIR      |  4,584 |  4.01249967175231742863895381  |\n",
      "|  BUSINESS OPERATED FROM A HOUSE OR GARAGE |  3,789 |  3.31661458470103201071400436  |\n",
      "|  COMMERCIAL JUNK YARDS                    |     32 |  0.02801046891275614260829985  |\n",
      "|  CONSTRUCTION DONE WITHOUT PERMITS OR ... | 13,402 | 11.73113451152368197613858179  |\n",
      "|  CONSTRUCTION IN PROGRESS WITHOUT PERM... | 12,978 | 11.35999579842966308657860876  |\n",
      "|  CUB OR CUX VIOLATIONS                    |     18 |  0.01575588876342533021716867  |\n",
      "|  DISABLED ACCESS ISSUES                   |    151 |  0.13217440018206804793291493  |\n",
      "|  EARTHQUAKE DAMAGE                        |      1 |  0.00087532715352362945650937  |\n",
      "|  EMERGENCY ASSESSMENT                     |      5 |  0.00437663576761814728254685  |\n",
      "|  FENCES WALLS AND HEDGES THAT ARE TOO ... |  2,974 |  2.60322295457927400365886750  |\n",
      "|  ...                                      |    ... |                           ...  |\n",
      "|-------------------------------------------+--------+--------------------------------|\n"
     ]
    }
   ],
   "source": [
    "by_type = table.group_by(\"CSR Problem Type\")\n",
    "by_type = by_type.aggregate([('count', agate.Count())])\n",
    "by_type = by_type.compute([('percent', agate.Percent(\"count\"))])\n",
    "by_type.order_by(\"CSR Problem Type\").print_table(max_column_width=40, max_rows=50)"
   ]
  },
  {
   "cell_type": "code",
   "execution_count": 9,
   "metadata": {
    "collapsed": true
   },
   "outputs": [],
   "source": [
    "vacants = table.where(\n",
    "    lambda row: row['CSR Problem Type'] == 'ABANDONED OR VACANT BUILDING LEFT OPEN TO THE PUBLIC'\n",
    ")\n",
    "print \"Total number of vacant complaints: %s\" % len(vacants.row)"
   ]
  },
  {
   "cell_type": "code",
   "execution_count": 11,
   "metadata": {
    "collapsed": false
   },
   "outputs": [
    {
     "name": "stdout",
     "output_type": "stream",
     "text": [
      "|---------------------------------+-------+--------------------------------|\n",
      "|  Area Planning Commission (APC) | count |                       percent  |\n",
      "|---------------------------------+-------+--------------------------------|\n",
      "|  Central                        |   511 | 12.75905118601747815230961298  |\n",
      "|  East Los Angeles               |   428 | 10.68664169787765293383270911  |\n",
      "|  Harbor                         |   192 |  4.79400749063670411985018727  |\n",
      "|  North Valley                   |   579 | 14.45692883895131086142322097  |\n",
      "|  South Los Angeles              | 1,266 | 31.61048689138576779026217228  |\n",
      "|  South Valley                   |   784 | 19.57553058676654182272159800  |\n",
      "|  West Los Angeles               |   242 |  6.04244694132334581772784020  |\n",
      "|                                 |     3 |  0.07490636704119850187265918  |\n",
      "|---------------------------------+-------+--------------------------------|\n"
     ]
    }
   ],
   "source": [
    "vacants_by_area = vacants.group_by(\"Area Planning Commission (APC)\")\n",
    "vacants_by_area = vacants_by_area.aggregate([('count', agate.Count())])\n",
    "vacants_by_area = vacants_by_area.compute([('percent', agate.Percent(\"count\"))])\n",
    "vacants_by_area.order_by(\"Area Planning Commission (APC)\").print_table(max_column_width=40)"
   ]
  },
  {
   "cell_type": "code",
   "execution_count": 12,
   "metadata": {
    "collapsed": false
   },
   "outputs": [
    {
     "name": "stdout",
     "output_type": "stream",
     "text": [
      "|----------------+-------+--------------------------------|\n",
      "|  Year Received | count |                       percent  |\n",
      "|----------------+-------+--------------------------------|\n",
      "|          2,011 |   775 | 19.35081148564294631710362047  |\n",
      "|          2,012 |   712 | 17.77777777777777777777777778  |\n",
      "|          2,013 |   604 | 15.08114856429463171036204744  |\n",
      "|          2,014 |   625 | 15.60549313358302122347066167  |\n",
      "|          2,015 |   841 | 20.99875156054931335830212235  |\n",
      "|          2,016 |   448 | 11.18601747815230961298377029  |\n",
      "|----------------+-------+--------------------------------|\n"
     ]
    }
   ],
   "source": [
    "vacants_by_year = vacants.group_by(\"Year Received\")\n",
    "vacants_by_year = vacants_by_year.aggregate([('count', agate.Count())])\n",
    "vacants_by_year = vacants_by_year.compute([('percent', agate.Percent(\"count\"))])\n",
    "vacants_by_year.order_by(\"Year Received\").print_table(max_column_width=40)"
   ]
  }
 ],
 "metadata": {
  "kernelspec": {
   "display_name": "Python 2",
   "language": "python",
   "name": "python2"
  },
  "language_info": {
   "codemirror_mode": {
    "name": "ipython",
    "version": 2
   },
   "file_extension": ".py",
   "mimetype": "text/x-python",
   "name": "python",
   "nbconvert_exporter": "python",
   "pygments_lexer": "ipython2",
   "version": "2.7.11+"
  }
 },
 "nbformat": 4,
 "nbformat_minor": 0
}
